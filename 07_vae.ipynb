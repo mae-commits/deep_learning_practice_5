{
 "cells": [
  {
   "cell_type": "markdown",
   "metadata": {},
   "source": [
    "# Step7: Variational AutoEncoder (VAE)"
   ]
  },
  {
   "cell_type": "markdown",
   "metadata": {},
   "source": [
    "## VAE"
   ]
  },
  {
   "cell_type": "code",
   "execution_count": 2,
   "metadata": {},
   "outputs": [
    {
     "name": "stderr",
     "output_type": "stream",
     "text": [
      "/Users/naokimaekawa/Library/Python/3.9/lib/python/site-packages/torchvision/io/image.py:13: UserWarning: Failed to load image Python extension: 'dlopen(/Users/naokimaekawa/Library/Python/3.9/lib/python/site-packages/torchvision/image.so, 0x0006): Symbol not found: __ZN3c1017RegisterOperatorsD1Ev\n",
      "  Referenced from: <760F3975-CB00-30FA-8785-26E85127AF0E> /Users/naokimaekawa/Library/Python/3.9/lib/python/site-packages/torchvision/image.so\n",
      "  Expected in:     <5B060930-6A71-3C98-A456-D34B1C187A40> /Users/naokimaekawa/Library/Python/3.9/lib/python/site-packages/torch/lib/libtorch_cpu.dylib'If you don't plan on using image functionality from `torchvision.io`, you can ignore this warning. Otherwise, there might be something wrong with your environment. Did you have `libjpeg` or `libpng` installed before building `torchvision` from source?\n",
      "  warn(\n"
     ]
    }
   ],
   "source": [
    "import matplotlib.pyplot as plt\n",
    "import torch \n",
    "import torch.nn as nn\n",
    "import torch.nn.functional as F\n",
    "import torch.optim as optim\n",
    "import torchvision\n",
    "from torchvision import datasets, transforms"
   ]
  },
  {
   "cell_type": "code",
   "execution_count": 3,
   "metadata": {},
   "outputs": [],
   "source": [
    "# Hyperparameters\n",
    "\n",
    "input_dim = 784 # x dimension\n",
    "hidden_dim = 200 # Neurons in hidden layers\n",
    "latent_dim = 20 # z dimension\n",
    "epochs = 30\n",
    "learning_rate = 3e-4\n",
    "batch_size = 32"
   ]
  },
  {
   "cell_type": "code",
   "execution_count": 8,
   "metadata": {},
   "outputs": [
    {
     "name": "stdout",
     "output_type": "stream",
     "text": [
      "53.80939936319987\n",
      "45.110577400716146\n",
      "43.17133775838216\n",
      "42.16544581298828\n",
      "41.467848211669924\n",
      "40.947607432047526\n",
      "40.6427437479655\n",
      "40.35991148274739\n",
      "40.1787654683431\n",
      "39.97650103759766\n",
      "39.84859098103841\n",
      "39.74385576782227\n",
      "39.600726326497394\n",
      "39.538232330322266\n",
      "39.43584795328776\n",
      "39.3679737894694\n",
      "39.295020918782555\n",
      "39.197560536702476\n",
      "39.14995958455404\n",
      "39.11381682535807\n",
      "39.072912563069664\n",
      "39.00828592122396\n",
      "38.942486651611325\n",
      "38.873835571289064\n",
      "38.86345557657878\n",
      "38.819037176513675\n",
      "38.76268673299154\n",
      "38.76060975443522\n",
      "38.72183941040039\n",
      "38.66175962727865\n"
     ]
    },
    {
     "data": {
      "image/png": "[encoded data removed]",
      "text/plain": [
       "<Figure size 640x480 with 1 Axes>"
      ]
     },
     "metadata": {},
     "output_type": "display_data"
    }
   ],
   "source": [
    "class Encoder(nn.Module):\n",
    "    def __init__(self, input_dim, hidden_dim, latent_dim):\n",
    "        super().__init__()\n",
    "        self.linear = nn.Linear(input_dim, hidden_dim)\n",
    "        self.linear_mu = nn.Linear(hidden_dim, latent_dim)        \n",
    "        self.linear_logvar = nn.Linear(hidden_dim, latent_dim)\n",
    "        \n",
    "    def forward(self, x):\n",
    "        h = self.linear(x)\n",
    "        h = F.relu(h)\n",
    "        mu = self.linear_mu(h)\n",
    "        logvar = self.linear_logvar(h)\n",
    "        sigma = torch.exp(0.5 * logvar)\n",
    "        return mu, sigma\n",
    "    \n",
    "class Decoder(nn.Module):\n",
    "    def __init__(self, latent_dim, hidden_dim, output_dim):\n",
    "        super().__init__()\n",
    "        self.linear1 = nn.Linear(latent_dim, hidden_dim)\n",
    "        self.linear2 = nn.Linear(hidden_dim, output_dim)\n",
    "        \n",
    "    def forward(self, z):\n",
    "        h = self.linear1(z)\n",
    "        h = F.relu(h)\n",
    "        h = self.linear2(h)\n",
    "        x_hat = F.sigmoid(h)\n",
    "        return x_hat\n",
    "    \n",
    "def reparameterize(mu, sigma):\n",
    "    eps = torch.randn_like(sigma)\n",
    "    z = mu + eps * sigma\n",
    "    return z\n",
    "\n",
    "class VAE(nn.Module):\n",
    "    def __init__(self, input_dim, hidden_dim, latent_dim):\n",
    "        super().__init__()\n",
    "        self.encoder = Encoder(input_dim, hidden_dim, latent_dim)\n",
    "        self.decoder = Decoder(latent_dim, hidden_dim, input_dim)\n",
    "    \n",
    "    def get_loss(self, x):\n",
    "        mu, sigma = self.encoder(x)\n",
    "        z = reparameterize(mu, sigma)\n",
    "        x_hat = self.decoder(z)\n",
    "        \n",
    "        batch_size = len(x)\n",
    "        \n",
    "        L1 = F.mse_loss(x_hat, x, reduction='sum')\n",
    "        L2 = - torch.sum(1 + torch.log(sigma ** 2) - mu ** 2 - sigma ** 2)\n",
    "        return (L1 + L2) / batch_size\n",
    "    \n",
    "# Datasets\n",
    "\n",
    "transform = transforms.Compose([\n",
    "    transforms.ToTensor(),\n",
    "    transforms.Lambda(torch.flatten) # Flatten the image to vector.\n",
    "])\n",
    "\n",
    "dataset = datasets.MNIST('./data', train=True, download=True, transform=transform)\n",
    "dataloader = torch.utils.data.DataLoader(dataset, batch_size=batch_size, shuffle=True)\n",
    "\n",
    "model = VAE(input_dim, hidden_dim, latent_dim)\n",
    "optimizer = optim.Adam(model.parameters(), lr=learning_rate)\n",
    "losses = []\n",
    "\n",
    "for epoch in range(epochs):\n",
    "    loss_sum = 0.0\n",
    "    cnt = 0\n",
    "    \n",
    "    for x, label in dataloader:\n",
    "        optimizer.zero_grad()\n",
    "        loss = model.get_loss(x)\n",
    "        loss.backward()\n",
    "        optimizer.step()\n",
    "        \n",
    "        loss_sum += loss.item()\n",
    "        cnt += 1\n",
    "        \n",
    "    loss_avg = loss_sum / cnt\n",
    "    print(loss_avg)\n",
    "    losses.append(loss_avg)\n",
    "    \n",
    "# Plot losses\n",
    "epochs = list(range(1, epochs + 1))\n",
    "plt.plot(epochs, losses, marker='o', linestyle='-')\n",
    "plt.xlabel('Epoch')\n",
    "plt.ylabel('Loss')\n",
    "plt.show()\n"
   ]
  }
 ],
 "metadata": {
  "kernelspec": {
   "display_name": "Python 3",
   "language": "python",
   "name": "python3"
  },
  "language_info": {
   "codemirror_mode": {
    "name": "ipython",
    "version": 3
   },
   "file_extension": ".py",
   "mimetype": "text/x-python",
   "name": "python",
   "nbconvert_exporter": "python",
   "pygments_lexer": "ipython3",
   "version": "3.9.6"
  }
 },
 "nbformat": 4,
 "nbformat_minor": 2
}
